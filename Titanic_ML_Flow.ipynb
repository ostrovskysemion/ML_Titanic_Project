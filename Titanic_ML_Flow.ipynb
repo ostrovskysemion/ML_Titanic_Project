{
 "cells": [
  {
   "cell_type": "markdown",
   "id": "34416493",
   "metadata": {},
   "source": [
    "\n",
    "# הקדמה\n",
    "\n",
    "**שם הסטודנט:** <!-- כתוב כאן את שמך כפי שמופיע במודל -->  \n",
    "**אות ראשונה של שם המשפחה:** <!-- כתוב כאן -->  \n",
    "**ארבע ספרות אחרונות של תעודת זהות:** <!-- כתוב כאן XXXX -->  \n",
    "\n",
    "בתרגיל זה אנו עוסקים בבעיה של **למידה מונחית מסוג סיווג (Classification)**.  \n",
    "המטרה היא לחזות האם נוסע בטיטאניק שרד (`Survived = 1`) או לא שרד (`Survived = 0`).  \n",
    "מדד האיכות שבו נשתמש הוא **F1-score** לבעיה בינארית.\n"
   ]
  },
  {
   "cell_type": "markdown",
   "id": "8a65c4a7",
   "metadata": {},
   "source": [
    "\n",
    "### שימוש ב־AI\n",
    "במהלך הכנת המטלה נעזרתי בכלי AI (כגון ChatGPT) לצורך ניסוח, ארגון קוד והסברים.  \n",
    "כל ההרצות, הניסויים והבחירות המודליות מוצגות במחברת זו.\n"
   ]
  },
  {
   "cell_type": "markdown",
   "id": "89006eb5",
   "metadata": {},
   "source": [
    "\n",
    "## ספריות ושגרות עזר\n",
    "נייבא ספריות לעיבוד נתונים, ויזואליזציה ומודלים. נגדיר פונקציות עזר לשכפול קוד.\n"
   ]
  },
  {
   "cell_type": "code",
   "execution_count": null,
   "id": "d1cd3bfa",
   "metadata": {},
   "outputs": [],
   "source": [
    "\n",
    "# ספריות בסיסיות\n",
    "import pandas as pd\n",
    "import numpy as np\n",
    "\n",
    "# ויזואליזציה\n",
    "import matplotlib.pyplot as plt\n",
    "import seaborn as sns\n",
    "\n",
    "# sklearn\n",
    "from sklearn.model_selection import GridSearchCV, StratifiedKFold\n",
    "from sklearn.compose import ColumnTransformer\n",
    "from sklearn.pipeline import Pipeline\n",
    "from sklearn.preprocessing import OneHotEncoder, StandardScaler\n",
    "from sklearn.metrics import f1_score, classification_report, ConfusionMatrixDisplay\n",
    "from sklearn.impute import SimpleImputer\n",
    "\n",
    "# אלגוריתמים\n",
    "from sklearn.linear_model import LogisticRegression\n",
    "from sklearn.tree import DecisionTreeClassifier\n",
    "from sklearn.ensemble import RandomForestClassifier\n",
    "from sklearn.neighbors import KNeighborsClassifier\n",
    "\n",
    "# תצוגה\n",
    "pd.set_option('display.max_columns', 100)\n",
    "sns.set_theme()\n",
    "plt.rcParams['figure.figsize'] = (6,4)\n",
    "\n",
    "def plot_hist(series, title):\n",
    "    plt.figure()\n",
    "    series.dropna().hist(bins=30)\n",
    "    plt.title(title)\n",
    "    plt.xlabel(series.name)\n",
    "    plt.ylabel('Count')\n",
    "    plt.show()\n"
   ]
  },
  {
   "cell_type": "markdown",
   "id": "7c97154d",
   "metadata": {},
   "source": [
    "\n",
    "## טעינת הנתונים\n",
    "נשתמש בקבצים `titanic_train.csv` ו־`titanic_test.csv` מתוך התיקייה הנוכחית.\n"
   ]
  },
  {
   "cell_type": "code",
   "execution_count": null,
   "id": "a8c238b7",
   "metadata": {},
   "outputs": [],
   "source": [
    "\n",
    "train_path = 'titanic_train.csv'\n",
    "test_path  = 'titanic_test.csv'\n",
    "\n",
    "df_train = pd.read_csv(train_path)\n",
    "df_test  = pd.read_csv(test_path)\n",
    "\n",
    "print('Train shape:', df_train.shape)\n",
    "print('Test shape :', df_test.shape)\n",
    "\n",
    "df_train.head()\n"
   ]
  },
  {
   "cell_type": "code",
   "execution_count": null,
   "id": "af9773a6",
   "metadata": {},
   "outputs": [],
   "source": [
    "\n",
    "# מידע כללי וערכים חסרים\n",
    "display(df_train.info())\n",
    "display(df_train.isna().sum().sort_values(ascending=False).to_frame('missing_train'))\n",
    "display(df_test.isna().sum().sort_values(ascending=False).to_frame('missing_test'))\n"
   ]
  },
  {
   "cell_type": "markdown",
   "id": "148348ac",
   "metadata": {},
   "source": [
    "\n",
    "## ניתוח ראשוני (EDA)\n",
    "נציג לפחות 4 ויזואליזציות: התפלגויות בסיסיות וטבלאות הישרדות לפי מאפיינים.\n"
   ]
  },
  {
   "cell_type": "code",
   "execution_count": null,
   "id": "2d025237",
   "metadata": {},
   "outputs": [],
   "source": [
    "\n",
    "# התפלגויות בסיסיות\n",
    "if 'Age' in df_train.columns:\n",
    "    plot_hist(df_train['Age'], 'התפלגות גיל (Train)')\n",
    "if 'Fare' in df_train.columns:\n",
    "    plot_hist(df_train['Fare'], 'התפלגות מחיר כרטיס (Train)')\n"
   ]
  },
  {
   "cell_type": "code",
   "execution_count": null,
   "id": "28438ce5",
   "metadata": {},
   "outputs": [],
   "source": [
    "\n",
    "# שיעור הישרדות לפי מגדר ומחלקה (אם קיימים)\n",
    "eda_tbls = {}\n",
    "if {'Sex','Survived'}.issubset(df_train.columns):\n",
    "    eda_tbls['Survival by Sex'] = df_train.pivot_table(index='Sex', values='Survived', aggfunc='mean')\n",
    "if {'Pclass','Survived'}.issubset(df_train.columns):\n",
    "    eda_tbls['Survival by Pclass'] = df_train.pivot_table(index='Pclass', values='Survived', aggfunc='mean')\n",
    "for k, v in eda_tbls.items():\n",
    "    print(k)\n",
    "    display(v)\n"
   ]
  },
  {
   "cell_type": "code",
   "execution_count": null,
   "id": "5d8b249b",
   "metadata": {},
   "outputs": [],
   "source": [
    "\n",
    "# ויזואליזציות נוספות (לפחות שתיים)\n",
    "if {'Survived','Age'}.issubset(df_train.columns):\n",
    "    plt.figure()\n",
    "    sns.boxplot(x=\"Survived\", y=\"Age\", data=df_train)\n",
    "    plt.title(\"התפלגות גיל לפי הישרדות\")\n",
    "    plt.show()\n",
    "\n",
    "if {'Pclass','Fare'}.issubset(df_train.columns):\n",
    "    plt.figure()\n",
    "    sns.boxplot(x=\"Pclass\", y=\"Fare\", data=df_train)\n",
    "    plt.title(\"התפלגות מחיר כרטיס לפי מחלקת הפלגה\")\n",
    "    plt.show()\n"
   ]
  },
  {
   "cell_type": "markdown",
   "id": "2737bd90",
   "metadata": {},
   "source": [
    "\n",
    "## הנדסת מאפיינים (Feature Engineering)\n",
    "ניצור מאפיינים חדשים (`FamilySize`, `IsAlone`, `Deck`) ונגדיר עיבוד מקדים עבור נומרי/קטגוריאלי.\n"
   ]
  },
  {
   "cell_type": "code",
   "execution_count": null,
   "id": "384512c9",
   "metadata": {},
   "outputs": [],
   "source": [
    "\n",
    "def add_engineered_features(df):\n",
    "    df = df.copy()\n",
    "    # גודל משפחה\n",
    "    if set(['SibSp','Parch']).issubset(df.columns):\n",
    "        df['FamilySize'] = df['SibSp'].fillna(0) + df['Parch'].fillna(0) + 1\n",
    "        df['IsAlone'] = (df['FamilySize'] == 1).astype(int)\n",
    "    # סיפון מתוך Cabin\n",
    "    if 'Cabin' in df.columns:\n",
    "        df['Deck'] = df['Cabin'].astype(str).str[0].replace('n', np.nan)\n",
    "    return df\n",
    "\n",
    "df_train_fe = add_engineered_features(df_train)\n",
    "df_test_fe  = add_engineered_features(df_test)\n",
    "\n",
    "df_train_fe.head()\n"
   ]
  },
  {
   "cell_type": "markdown",
   "id": "9c097bd8",
   "metadata": {},
   "source": [
    "\n",
    "## הכנת צינור עיבוד (Preprocessing) ומודלים + GridSearchCV (5-Fold)\n"
   ]
  },
  {
   "cell_type": "code",
   "execution_count": null,
   "id": "c1317e64",
   "metadata": {},
   "outputs": [],
   "source": [
    "\n",
    "target_col = 'Survived'\n",
    "X = df_train_fe.drop(columns=[target_col])\n",
    "y = df_train_fe[target_col]\n",
    "\n",
    "# עמודות נומריות וקטגוריאליות\n",
    "numeric_features = [c for c in X.columns if np.issubdtype(X[c].dtype, np.number)]\n",
    "categorical_features = [c for c in X.columns if c not in numeric_features]\n",
    "\n",
    "# הסרת מזהים\n",
    "for col in ['PassengerId','Ticket']:\n",
    "    if col in numeric_features:\n",
    "        numeric_features.remove(col)\n",
    "    if col in categorical_features:\n",
    "        categorical_features.remove(col)\n",
    "\n",
    "numeric_transformer = Pipeline(steps=[\n",
    "    ('imputer', SimpleImputer(strategy='median')),\n",
    "    ('scaler', StandardScaler())\n",
    "])\n",
    "\n",
    "categorical_transformer = Pipeline(steps=[\n",
    "    ('imputer', SimpleImputer(strategy='most_frequent')),\n",
    "    ('onehot', OneHotEncoder(handle_unknown='ignore'))\n",
    "])\n",
    "\n",
    "preprocess = ColumnTransformer(\n",
    "    transformers=[\n",
    "        ('num', numeric_transformer, numeric_features),\n",
    "        ('cat', categorical_transformer, categorical_features)\n",
    "    ]\n",
    ")\n",
    "\n",
    "# מודלים\n",
    "pipe_logreg = Pipeline(steps=[('preprocess', preprocess),\n",
    "                              ('model', LogisticRegression(max_iter=1000))])\n",
    "\n",
    "pipe_tree = Pipeline(steps=[('preprocess', preprocess),\n",
    "                            ('model', DecisionTreeClassifier(random_state=42))])\n",
    "\n",
    "pipe_rf = Pipeline(steps=[('preprocess', preprocess),\n",
    "                          ('model', RandomForestClassifier(random_state=42))])\n",
    "\n",
    "pipe_knn = Pipeline(steps=[('preprocess', preprocess),\n",
    "                           ('model', KNeighborsClassifier())])\n",
    "\n",
    "# גרידים\n",
    "param_grid_logreg = {'model__C':[0.1,1.0,3.0],'model__penalty':['l2'],'model__solver':['lbfgs','liblinear']}\n",
    "param_grid_tree   = {'model__max_depth':[3,5,8,None],'model__min_samples_split':[2,5,10]}\n",
    "param_grid_rf     = {'model__n_estimators':[100,300],'model__max_depth':[None,5,8],'model__min_samples_split':[2,5]}\n",
    "param_grid_knn    = {'model__n_neighbors':[3,5,7,9],'model__weights':['uniform','distance']}\n",
    "\n",
    "cv = StratifiedKFold(n_splits=5, shuffle=True, random_state=42)\n",
    "\n",
    "grids = [\n",
    "    ('LogisticRegression', pipe_logreg, param_grid_logreg),\n",
    "    ('DecisionTree',       pipe_tree,   param_grid_tree),\n",
    "    ('RandomForest',       pipe_rf,     param_grid_rf),\n",
    "    ('KNN',                pipe_knn,    param_grid_knn),\n",
    "]\n",
    "\n",
    "results = []\n",
    "best_estimators = {}\n",
    "\n",
    "for name, pipe, grid in grids:\n",
    "    gs = GridSearchCV(estimator=pipe, param_grid=grid, scoring='f1', cv=cv, n_jobs=-1, refit=True, verbose=0)\n",
    "    gs.fit(X, y)\n",
    "    results.append({'model':name, 'best_score_mean_cv_f1':gs.best_score_, 'best_params':gs.best_params_})\n",
    "    best_estimators[name] = gs.best_estimator_\n",
    "\n",
    "res_df = pd.DataFrame(results).sort_values('best_score_mean_cv_f1', ascending=False)\n",
    "res_df\n"
   ]
  },
  {
   "cell_type": "markdown",
   "id": "2d0fcece",
   "metadata": {},
   "source": [
    "\n",
    "## בחירת המודל הטוב ביותר והערכת Train\n"
   ]
  },
  {
   "cell_type": "code",
   "execution_count": null,
   "id": "613056f8",
   "metadata": {},
   "outputs": [],
   "source": [
    "\n",
    "best_row = res_df.iloc[0]\n",
    "best_name = best_row['model']\n",
    "best_model = best_estimators[best_name]\n",
    "\n",
    "print('המודל הטוב ביותר:', best_name)\n",
    "print('F1 ממוצע (CV):', best_row['best_score_mean_cv_f1'])\n",
    "print('היפר-פרמטרים:', best_row['best_params'])\n",
    "\n",
    "y_pred_train = best_model.predict(X)\n",
    "print(classification_report(y, y_pred_train, digits=4))\n"
   ]
  },
  {
   "cell_type": "markdown",
   "id": "95413fe6",
   "metadata": {},
   "source": [
    "\n",
    "## חיזוי על Test ויצוא תוצאות\n"
   ]
  },
  {
   "cell_type": "code",
   "execution_count": null,
   "id": "1c2ebc72",
   "metadata": {},
   "outputs": [],
   "source": [
    "\n",
    "X_test = df_test_fe.copy()\n",
    "\n",
    "pid = X_test['PassengerId'] if 'PassengerId' in X_test.columns else pd.Series(range(1, len(X_test)+1))\n",
    "\n",
    "# התאמת עמודות\n",
    "missing_cols = [c for c in X.columns if c not in X_test.columns]\n",
    "for c in missing_cols:\n",
    "    X_test[c] = np.nan\n",
    "X_test = X_test[X.columns]\n",
    "\n",
    "test_pred = best_model.predict(X_test)\n",
    "\n",
    "sub = pd.DataFrame({'PassengerId': pid, 'Survived': test_pred.astype(int)})\n",
    "sub.to_csv('titanic_submission.csv', index=False)\n",
    "\n",
    "print(\"חמשת התחזיות הראשונות על קבוצת הבדיקה:\")\n",
    "print(sub.head())\n"
   ]
  },
  {
   "cell_type": "markdown",
   "id": "3b31ccf6",
   "metadata": {},
   "source": [
    "\n",
    "## (רשות) מטריצת בלבול (Train)\n"
   ]
  },
  {
   "cell_type": "code",
   "execution_count": null,
   "id": "27ab4707",
   "metadata": {},
   "outputs": [],
   "source": [
    "\n",
    "try:\n",
    "    fig, ax = plt.subplots()\n",
    "    ConfusionMatrixDisplay.from_predictions(y, y_pred_train, ax=ax)\n",
    "    ax.set_title('Confusion Matrix (Train)')\n",
    "    plt.show()\n",
    "except Exception as e:\n",
    "    print('לא ניתן לצייר מטריצה:', e)\n"
   ]
  },
  {
   "cell_type": "markdown",
   "id": "3b98814a",
   "metadata": {},
   "source": [
    "\n",
    "## סיכום\n",
    "הצגנו זרימת ML מלאה ל־Titanic: טעינה, EDA (4+ ויזואליזציות), הנדסת מאפיינים, ניסויים עם GridSearchCV ו־5-Fold (כולל KNN), בחירת מודל, וחיזוי על Test עם יצוא `titanic_submission.csv`.\n"
   ]
  }
 ],
 "metadata": {},
 "nbformat": 4,
 "nbformat_minor": 5
}
